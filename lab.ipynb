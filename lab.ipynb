{
 "cells": [
  {
   "cell_type": "code",
   "execution_count": 30,
   "metadata": {},
   "outputs": [],
   "source": [
    "def getPCTText(value: float, decimals : int = 2) -> str:\n",
    "    strValue = str(round(value * 100, 2))\n",
    "    dec = 0\n",
    "    if '.' in strValue:\n",
    "        dec = len(strValue.split('.')[1])\n",
    "    if dec < 2:\n",
    "        strValue += (decimals - dec) * '0'\n",
    "    return strValue + '%'"
   ]
  },
  {
   "cell_type": "code",
   "execution_count": 31,
   "metadata": {},
   "outputs": [
    {
     "data": {
      "text/plain": [
       "'18.95%'"
      ]
     },
     "execution_count": 31,
     "metadata": {},
     "output_type": "execute_result"
    }
   ],
   "source": [
    "getPCTText(0.189538)"
   ]
  },
  {
   "cell_type": "code",
   "execution_count": 32,
   "metadata": {},
   "outputs": [],
   "source": [
    "def getDoubleText(value: float, decimals: int = 2) -> str:\n",
    "    strValue = str(round(value, 2))\n",
    "    dec = 0\n",
    "    if '.' in strValue:\n",
    "        dec = len(strValue.split('.')[1])\n",
    "    else:\n",
    "        strValue += '.'\n",
    "    if dec < 2:\n",
    "        strValue += (decimals - dec) * '0'\n",
    "    return strValue"
   ]
  },
  {
   "cell_type": "code",
   "execution_count": 34,
   "metadata": {},
   "outputs": [
    {
     "data": {
      "text/plain": [
       "'153.000'"
      ]
     },
     "execution_count": 34,
     "metadata": {},
     "output_type": "execute_result"
    }
   ],
   "source": [
    "getDoubleText(153,3)"
   ]
  },
  {
   "cell_type": "code",
   "execution_count": null,
   "metadata": {},
   "outputs": [],
   "source": []
  }
 ],
 "metadata": {
  "kernelspec": {
   "display_name": "Python 3",
   "language": "python",
   "name": "python3"
  },
  "language_info": {
   "codemirror_mode": {
    "name": "ipython",
    "version": 3
   },
   "file_extension": ".py",
   "mimetype": "text/x-python",
   "name": "python",
   "nbconvert_exporter": "python",
   "pygments_lexer": "ipython3",
   "version": "3.11.3"
  }
 },
 "nbformat": 4,
 "nbformat_minor": 2
}
